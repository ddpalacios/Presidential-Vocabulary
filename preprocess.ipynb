{
 "cells": [
  {
   "cell_type": "code",
   "execution_count": 7,
   "metadata": {},
   "outputs": [],
   "source": [
    "import pickle\n",
    "trump_data = pickle.load(open(\"TRUMP_SNIPPETS_DF.pickle\", \"rb\" ))\n",
    "obama_data = pickle.load(open(\"OBAMA_SNIPPETS_DF.pickle\", \"rb\" ))"
<<<<<<< HEAD
   ]
  },
  {
   "cell_type": "code",
   "execution_count": 2,
   "metadata": {},
   "outputs": [
    {
     "data": {
      "text/plain": [
       "<matplotlib.axes._subplots.AxesSubplot at 0x7f619ccf98d0>"
      ]
     },
     "execution_count": 2,
     "metadata": {},
     "output_type": "execute_result"
    },
    {
     "data": {
      "image/png": "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\n",
      "text/plain": [
       "<Figure size 432x288 with 1 Axes>"
      ]
     },
     "metadata": {
      "needs_background": "light"
     },
     "output_type": "display_data"
    }
   ],
   "source": [
    "import seaborn as sns\n",
    "sns.countplot(x='type', data=trump_data)"
   ]
  },
  {
   "cell_type": "code",
   "execution_count": 3,
   "metadata": {},
   "outputs": [
    {
     "data": {
      "text/plain": [
       "<matplotlib.axes._subplots.AxesSubplot at 0x7f619c4a6090>"
      ]
     },
     "execution_count": 3,
     "metadata": {},
     "output_type": "execute_result"
    },
    {
     "data": {
      "image/png": "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\n",
      "text/plain": [
       "<Figure size 432x288 with 1 Axes>"
      ]
     },
     "metadata": {
      "needs_background": "light"
     },
     "output_type": "display_data"
    }
   ],
   "source": [
    "sns.countplot(x='type', data=obama_data)"
   ]
  },
  {
   "cell_type": "code",
   "execution_count": 4,
   "metadata": {},
   "outputs": [
    {
     "name": "stderr",
     "output_type": "stream",
     "text": [
      "Using TensorFlow backend.\n"
     ]
    }
   ],
   "source": [
    "import pandas as pd\n",
    "import pandas as pd\n",
    "import numpy as np\n",
    "import re\n",
    "import nltk\n",
    "from nltk.corpus import stopwords\n",
    "from numpy import array\n",
    "from numpy import asarray\n",
    "from numpy import zeros\n",
    "from numpy import array\n",
    "from keras.preprocessing.text import one_hot\n",
    "from keras.preprocessing.sequence import pad_sequences\n",
    "from keras.models import Sequential\n",
    "from keras.layers.core import Activation, Dropout, Dense\n",
    "from keras.layers import Flatten\n",
    "from keras.layers import GlobalMaxPooling1D\n",
    "from keras.layers.embeddings import Embedding\n",
    "from sklearn.model_selection import train_test_split\n",
    "from keras.preprocessing.text import Tokenizer\n",
    "class Metrics:\n",
    "    def __init__(self, df):\n",
    "        self.df = pd.read_pickle(df)\n",
    "        self.union_speeches = []\n",
    "        self.rally_speeches = []\n",
    "        \n",
    "    def find_avg_word_length(self):\n",
    "        average_res = []\n",
    "        rally = self._get_speeches_list_from_df(self.df,1)\n",
    "        union = self._get_speeches_list_from_df(self.df,0)\n",
    "        self.rally_speeches.append(rally)\n",
    "        self.union_speeches.append(union)\n",
    "        word_count = 0\n",
    "        total_characters = 0\n",
    "        for speech_list in [rally, union]:\n",
    "            for speech in speech_list:\n",
    "                word_count += len(speech.split())\n",
    "                total_characters += len(speech) - speech.count(' ')\n",
    "                \n",
    "            avg_word_length = total_characters / word_count\n",
    "            average_res.append(round(avg_word_length,2))\n",
    "            \n",
    "            \n",
    "        return average_res\n",
    "\n",
    "\n",
    "    def _get_speeches_list_from_df(self, df, attr_val):\n",
    "        df_speeches = df.loc[df['type'] == attr_val]\n",
    "        speeches_list = df_speeches['transcript'].tolist()\n",
    "\n",
    "        return speeches_list"
   ]
  },
  {
   "cell_type": "code",
   "execution_count": 5,
   "metadata": {},
   "outputs": [
    {
     "name": "stdout",
     "output_type": "stream",
     "text": [
      "[5.57, 5.77] [4.25, 4.31]\n",
      "[5.67, 5.9] [4.24, 4.33]\n"
     ]
    }
   ],
   "source": [
    "trump_snippits = Metrics(\"TRUMP_SNIPPETS_DF.pickle\")\n",
    "trump_speeches = Metrics('trump_speeches_df.pickle')\n",
    "obama_speeches = Metrics('obama_speeches_df.pickle')\n",
    "obama_snippits = Metrics('OBAMA_SNIPPETS_DF.pickle')\n",
    "\n",
    "\n",
    "print(trump_snippits.find_avg_word_length(), trump_speeches.find_avg_word_length())\n",
    "print(obama_snippits.find_avg_word_length(), obama_speeches.find_avg_word_length())"
   ]
  },
  {
   "cell_type": "code",
   "execution_count": null,
   "metadata": {},
   "outputs": [],
   "source": []
  },
  {
   "cell_type": "code",
   "execution_count": 6,
   "metadata": {},
   "outputs": [
    {
     "name": "stderr",
     "output_type": "stream",
     "text": [
      "[nltk_data] Downloading package stopwords to /home/daniel/nltk_data...\n",
      "[nltk_data]   Package stopwords is already up-to-date!\n"
     ]
    }
   ],
   "source": [
    "import re\n",
    "import nltk\n",
    "from nltk.corpus import stopwords\n",
    "\n",
    "nltk.download('stopwords')\n",
    "from nltk.tokenize import word_tokenize\n",
    "\n",
    "def preprocess_text(sen):\n",
    "    # Remove punctuations and numbers\n",
    "    sentence = re.sub('[^a-zA-Z]', ' ', sen)\n",
    "\n",
    "    # Single character removal\n",
    "    sentence = re.sub(r\"\\s+[a-zA-Z]\\s+\", ' ', sentence)\n",
    "    # Removing multiple spaces\n",
    "    sentence = re.sub(r'\\s+', ' ', sentence)\n",
    "\n",
    "    return sentence"
   ]
  },
  {
   "cell_type": "code",
   "execution_count": 7,
   "metadata": {},
   "outputs": [],
   "source": [
    "import numpy as np\n",
    "from sklearn.model_selection import train_test_split\n",
    "from sklearn.model_selection import StratifiedShuffleSplit\n",
    "class Compress:\n",
    "    def save_as_npz(self,df,npz_name=None,tran_data='transcript',label='type'):\n",
    "        X = []\n",
    "        y = np.array(df[label])\n",
    "        sentences = np.array(df[tran_data])\n",
    "        for sen in sentences:\n",
    "            X.append(preprocess_text(sen))\n",
    "                        \n",
    "        self._train_test_split(np.array([X]).T, np.array(y), npz_filename=npz_name)\n",
    "        \n",
    "        \n",
    "\n",
    "    def _train_test_split(self,X,y,npz_filename=''+'.npz',test_size=0.2, random_state=42):\n",
    "        sss = StratifiedShuffleSplit(n_splits=5, test_size=0.5, random_state=0)\n",
    "        sss.get_n_splits(np.array(X), y)\n",
    "        for train_index, test_index in sss.split(X, y):\n",
    "            X_train, X_test = X[train_index], X[test_index]\n",
    "            y_train, y_test = y[train_index], y[test_index]\n",
    "        print(X_train.shape, y_train.shape, X_test.shape, y_test.shape)\n",
    "        tokenizer = Tokenizer(num_words=30000)\n",
    "        tokenizer.fit_on_texts(X_train.ravel())\n",
    "        X_train = tokenizer.texts_to_sequences(X_train.ravel())\n",
    "        X_test = tokenizer.texts_to_sequences(X_test.ravel())\n",
    "        \n",
    "        vocab_size = len(tokenizer.word_index) + 1\n",
    "\n",
    "        maxlen = 100\n",
    "\n",
    "        X_train = pad_sequences(X_train, padding='post', maxlen=maxlen)\n",
    "        X_test = pad_sequences(X_test, padding='post', maxlen=maxlen)\n",
    "        \n",
    "        embeddings_dictionary = dict()\n",
    "        glove_file = open('glove.6B.50d.txt', encoding=\"utf8\")\n",
    "\n",
    "        for line in glove_file:\n",
    "            records = line.split()\n",
    "            word = records[0]\n",
    "            vector_dimensions = asarray(records[1:], dtype='float32')\n",
    "            embeddings_dictionary [word] = vector_dimensions\n",
    "        glove_file.close()\n",
    "        embedding_matrix = zeros((vocab_size, 50))\n",
    "        for word, index in tokenizer.word_index.items():\n",
    "            embedding_vector = embeddings_dictionary.get(word)\n",
    "            if embedding_vector is not None:\n",
    "                embedding_matrix[index] = embedding_vector\n",
    "        \n",
    "        np.savez_compressed(npz_filename,\n",
    "                        X_train=X_train,\n",
    "                        y_train=y_train,\n",
    "                        X_test=X_test,\n",
    "                        y_test=y_test,\n",
    "                        vocab_size=vocab_size, \n",
    "                        embedding_matrix=embedding_matrix)\n",
    "        print(\"Saved {} as .npz\".format(npz_filename))\n",
    "    "
   ]
  },
  {
   "cell_type": "code",
   "execution_count": 8,
   "metadata": {},
   "outputs": [
    {
     "name": "stdout",
     "output_type": "stream",
     "text": [
      "(2820, 1) (2820,) (2820, 1) (2820,)\n",
      "Saved TrumpSplitData as .npz\n",
      "(4000, 1) (4000,) (4000, 1) (4000,)\n",
      "Saved ObamaSplitData as .npz\n"
     ]
    }
   ],
   "source": [
    "compress = Compress()\n",
    "compress.save_as_npz(trump_data, npz_name='TrumpSplitData')\n",
    "compress.save_as_npz(obama_data, npz_name='ObamaSplitData')"
   ]
  },
  {
   "cell_type": "code",
   "execution_count": 28,
   "metadata": {},
   "outputs": [],
   "source": [
    "import numpy as np\n",
    "class load_file:\n",
    "    def __init__(self, file):\n",
    "        self.file = file\n",
    "\n",
    "    def get_data(self):\n",
    "        hal = np.load(self.file)\n",
    "        X_train, y_train, X_test, y_test,vocab_size, embedding_matrix = [hal[f] for f in hal.files]\n",
    "        return X_train, y_train, X_test, y_test,vocab_size, embedding_matrix\n",
    "\n",
    "\n",
    "df = load_file('ObamaSplitData.npz')\n",
    "X_train, y_train, X_test, y_test,vocab_size, embedding_matrix = df.get_data()"
=======
>>>>>>> 7de7cdf760321fffc49c4d392a19172fd07dae3c
   ]
  },
  {
   "cell_type": "code",
<<<<<<< HEAD
   "execution_count": 35,
   "metadata": {
    "scrolled": true
   },
   "outputs": [
    {
     "name": "stdout",
     "output_type": "stream",
     "text": [
      "Model: \"sequential_13\"\n",
      "_________________________________________________________________\n",
      "Layer (type)                 Output Shape              Param #   \n",
      "=================================================================\n",
      "embedding_12 (Embedding)     (None, 100, 50)           228650    \n",
      "_________________________________________________________________\n",
      "dense_77 (Dense)             (None, 100, 32)           1632      \n",
      "_________________________________________________________________\n",
      "dropout_66 (Dropout)         (None, 100, 32)           0         \n",
      "_________________________________________________________________\n",
      "dense_78 (Dense)             (None, 100, 64)           2112      \n",
      "_________________________________________________________________\n",
      "dropout_67 (Dropout)         (None, 100, 64)           0         \n",
      "_________________________________________________________________\n",
      "dense_79 (Dense)             (None, 100, 128)          8320      \n",
      "_________________________________________________________________\n",
      "dropout_68 (Dropout)         (None, 100, 128)          0         \n",
      "_________________________________________________________________\n",
      "dense_80 (Dense)             (None, 100, 512)          66048     \n",
      "_________________________________________________________________\n",
      "dropout_69 (Dropout)         (None, 100, 512)          0         \n",
      "_________________________________________________________________\n",
      "dense_81 (Dense)             (None, 100, 128)          65664     \n",
      "_________________________________________________________________\n",
      "dropout_70 (Dropout)         (None, 100, 128)          0         \n",
      "_________________________________________________________________\n",
      "flatten_12 (Flatten)         (None, 12800)             0         \n",
      "_________________________________________________________________\n",
      "dropout_71 (Dropout)         (None, 12800)             0         \n",
      "_________________________________________________________________\n",
      "dense_82 (Dense)             (None, 512)               6554112   \n",
      "_________________________________________________________________\n",
      "dense_83 (Dense)             (None, 1)                 513       \n",
      "=================================================================\n",
      "Total params: 6,927,051\n",
      "Trainable params: 6,927,051\n",
      "Non-trainable params: 0\n",
      "_________________________________________________________________\n",
      "None\n"
     ]
    },
    {
     "name": "stderr",
     "output_type": "stream",
     "text": [
      "/home/daniel/anaconda3/lib/python3.7/site-packages/tensorflow_core/python/framework/indexed_slices.py:433: UserWarning: Converting sparse IndexedSlices to a dense Tensor of unknown shape. This may consume a large amount of memory.\n",
      "  \"Converting sparse IndexedSlices to a dense Tensor of unknown shape. \"\n"
     ]
    },
    {
     "name": "stdout",
     "output_type": "stream",
     "text": [
      "Train on 4000 samples, validate on 4000 samples\n",
      "Epoch 1/40\n",
      "4000/4000 [==============================] - 1s 320us/step - loss: 6.8152 - acc: 0.5433 - val_loss: 6.1843 - val_acc: 0.5695\n",
      "Epoch 2/40\n",
      "4000/4000 [==============================] - 1s 210us/step - loss: 6.0029 - acc: 0.5730 - val_loss: 5.4457 - val_acc: 0.5375\n",
      "Epoch 3/40\n",
      "4000/4000 [==============================] - 1s 204us/step - loss: 5.2884 - acc: 0.5788 - val_loss: 4.7835 - val_acc: 0.5640\n",
      "Epoch 4/40\n",
      "4000/4000 [==============================] - 1s 204us/step - loss: 4.6551 - acc: 0.5738 - val_loss: 4.2047 - val_acc: 0.5567\n",
      "Epoch 5/40\n",
      "4000/4000 [==============================] - 1s 203us/step - loss: 4.0928 - acc: 0.5982 - val_loss: 3.7122 - val_acc: 0.5142\n",
      "Epoch 6/40\n",
      "4000/4000 [==============================] - 1s 203us/step - loss: 3.6046 - acc: 0.6118 - val_loss: 3.2990 - val_acc: 0.5048\n",
      "Epoch 7/40\n",
      "4000/4000 [==============================] - 1s 205us/step - loss: 3.1770 - acc: 0.6215 - val_loss: 2.9530 - val_acc: 0.5067\n",
      "Epoch 8/40\n",
      "4000/4000 [==============================] - 1s 205us/step - loss: 2.8211 - acc: 0.6212 - val_loss: 2.6066 - val_acc: 0.5217\n",
      "Epoch 9/40\n",
      "4000/4000 [==============================] - 1s 202us/step - loss: 2.5182 - acc: 0.6373 - val_loss: 2.3210 - val_acc: 0.5430\n",
      "Epoch 10/40\n",
      "4000/4000 [==============================] - 1s 203us/step - loss: 2.2704 - acc: 0.6348 - val_loss: 2.1239 - val_acc: 0.5332\n",
      "Epoch 11/40\n",
      "4000/4000 [==============================] - 1s 204us/step - loss: 2.0614 - acc: 0.6363 - val_loss: 1.9260 - val_acc: 0.5403\n",
      "Epoch 12/40\n",
      "4000/4000 [==============================] - 1s 203us/step - loss: 1.8808 - acc: 0.6378 - val_loss: 1.7350 - val_acc: 0.5713\n",
      "Epoch 13/40\n",
      "4000/4000 [==============================] - 1s 203us/step - loss: 1.7224 - acc: 0.6530 - val_loss: 1.6197 - val_acc: 0.5617\n",
      "Epoch 14/40\n",
      "4000/4000 [==============================] - 1s 203us/step - loss: 1.5950 - acc: 0.6485 - val_loss: 1.4701 - val_acc: 0.6040\n",
      "Epoch 15/40\n",
      "4000/4000 [==============================] - 1s 204us/step - loss: 1.4888 - acc: 0.6398 - val_loss: 1.3784 - val_acc: 0.5993\n",
      "Epoch 16/40\n",
      "4000/4000 [==============================] - 1s 202us/step - loss: 1.3894 - acc: 0.6503 - val_loss: 1.2842 - val_acc: 0.6212\n",
      "Epoch 17/40\n",
      "4000/4000 [==============================] - 1s 203us/step - loss: 1.3039 - acc: 0.6625 - val_loss: 1.1977 - val_acc: 0.6505\n",
      "Epoch 18/40\n",
      "4000/4000 [==============================] - 1s 201us/step - loss: 1.2367 - acc: 0.6618 - val_loss: 1.1266 - val_acc: 0.6655\n",
      "Epoch 19/40\n",
      "4000/4000 [==============================] - 1s 204us/step - loss: 1.1708 - acc: 0.6675 - val_loss: 1.0707 - val_acc: 0.6740\n",
      "Epoch 20/40\n",
      "4000/4000 [==============================] - 1s 200us/step - loss: 1.1224 - acc: 0.6675 - val_loss: 1.0216 - val_acc: 0.6923\n",
      "Epoch 21/40\n",
      "4000/4000 [==============================] - 1s 203us/step - loss: 1.0727 - acc: 0.6770 - val_loss: 0.9796 - val_acc: 0.6910\n",
      "Epoch 22/40\n",
      "4000/4000 [==============================] - 1s 204us/step - loss: 1.0308 - acc: 0.6793 - val_loss: 0.9393 - val_acc: 0.7020\n",
      "Epoch 23/40\n",
      "4000/4000 [==============================] - 1s 202us/step - loss: 0.9877 - acc: 0.6823 - val_loss: 0.9063 - val_acc: 0.6992\n",
      "Epoch 24/40\n",
      "4000/4000 [==============================] - 1s 202us/step - loss: 0.9447 - acc: 0.6965 - val_loss: 0.8674 - val_acc: 0.7143\n",
      "Epoch 25/40\n",
      "4000/4000 [==============================] - 1s 200us/step - loss: 0.9222 - acc: 0.7090 - val_loss: 0.8397 - val_acc: 0.7210\n",
      "Epoch 26/40\n",
      "4000/4000 [==============================] - 1s 202us/step - loss: 0.8873 - acc: 0.7155 - val_loss: 0.8132 - val_acc: 0.7295\n",
      "Epoch 27/40\n",
      "4000/4000 [==============================] - 1s 203us/step - loss: 0.8599 - acc: 0.7193 - val_loss: 0.7883 - val_acc: 0.7350\n",
      "Epoch 28/40\n",
      "4000/4000 [==============================] - 1s 205us/step - loss: 0.8292 - acc: 0.7283 - val_loss: 0.7623 - val_acc: 0.7473\n",
      "Epoch 29/40\n",
      "4000/4000 [==============================] - 1s 204us/step - loss: 0.8084 - acc: 0.7333 - val_loss: 0.7447 - val_acc: 0.7462\n",
      "Epoch 30/40\n",
      "4000/4000 [==============================] - 1s 204us/step - loss: 0.7889 - acc: 0.7385 - val_loss: 0.7252 - val_acc: 0.7530\n",
      "Epoch 31/40\n",
      "4000/4000 [==============================] - 1s 201us/step - loss: 0.7684 - acc: 0.7430 - val_loss: 0.7081 - val_acc: 0.7602\n",
      "Epoch 32/40\n",
      "4000/4000 [==============================] - 1s 203us/step - loss: 0.7498 - acc: 0.7430 - val_loss: 0.6933 - val_acc: 0.7632\n",
      "Epoch 33/40\n",
      "4000/4000 [==============================] - 1s 206us/step - loss: 0.7375 - acc: 0.7540 - val_loss: 0.6789 - val_acc: 0.7670\n",
      "Epoch 34/40\n",
      "4000/4000 [==============================] - 1s 207us/step - loss: 0.7079 - acc: 0.7628 - val_loss: 0.6688 - val_acc: 0.7663\n",
      "Epoch 35/40\n",
      "4000/4000 [==============================] - 1s 204us/step - loss: 0.7032 - acc: 0.7585 - val_loss: 0.6534 - val_acc: 0.7732\n",
      "Epoch 36/40\n",
      "4000/4000 [==============================] - 1s 203us/step - loss: 0.6843 - acc: 0.7707 - val_loss: 0.6433 - val_acc: 0.7740\n",
      "Epoch 37/40\n",
      "4000/4000 [==============================] - 1s 203us/step - loss: 0.6697 - acc: 0.7755 - val_loss: 0.6315 - val_acc: 0.7753\n",
      "Epoch 38/40\n",
      "4000/4000 [==============================] - 1s 204us/step - loss: 0.6527 - acc: 0.7725 - val_loss: 0.6184 - val_acc: 0.7828\n",
      "Epoch 39/40\n",
      "4000/4000 [==============================] - 1s 201us/step - loss: 0.6424 - acc: 0.7868 - val_loss: 0.6103 - val_acc: 0.7880\n",
      "Epoch 40/40\n",
      "4000/4000 [==============================] - 1s 202us/step - loss: 0.6314 - acc: 0.7910 - val_loss: 0.5993 - val_acc: 0.7912\n"
     ]
=======
   "execution_count": 8,
   "metadata": {},
   "outputs": [
    {
     "data": {
      "text/plain": [
       "<matplotlib.axes._subplots.AxesSubplot at 0x7fce541bcc90>"
      ]
     },
     "execution_count": 8,
     "metadata": {},
     "output_type": "execute_result"
>>>>>>> 7de7cdf760321fffc49c4d392a19172fd07dae3c
    },
    {
     "data": {
      "image/png": "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\n",
      "text/plain": [
       "<Figure size 432x288 with 1 Axes>"
      ]
     },
     "metadata": {
      "needs_background": "light"
     },
     "output_type": "display_data"
<<<<<<< HEAD
=======
    }
   ],
   "source": [
    "import seaborn as sns\n",
    "sns.countplot(x='type', data=trump_data)"
   ]
  },
  {
   "cell_type": "code",
   "execution_count": 9,
   "metadata": {},
   "outputs": [
    {
     "data": {
      "text/plain": [
       "<matplotlib.axes._subplots.AxesSubplot at 0x7fce3c701310>"
      ]
     },
     "execution_count": 9,
     "metadata": {},
     "output_type": "execute_result"
>>>>>>> 7de7cdf760321fffc49c4d392a19172fd07dae3c
    },
    {
     "data": {
      "image/png": "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\n",
      "text/plain": [
       "<Figure size 432x288 with 1 Axes>"
      ]
     },
     "metadata": {
      "needs_background": "light"
     },
     "output_type": "display_data"
<<<<<<< HEAD
    },
    {
     "name": "stdout",
     "output_type": "stream",
     "text": [
      "4000/4000 [==============================] - 0s 75us/step\n",
      "Training Accuracy is 83.92500281333923\n",
      "4000/4000 [==============================] - 0s 75us/step\n",
      "Testing Accuracy is 79.12499904632568 \n",
      "Accuracy: 0.791250\n",
      "Precision: 0.797346\n",
      "Recall: 0.781000\n",
      "F1 score: 0.789088\n",
      "[[1603  397]\n",
      " [ 438 1562]]\n"
     ]
    }
   ],
   "source": [
=======
    }
   ],
   "source": [
    "sns.countplot(x='type', data=obama_data)"
   ]
  },
  {
   "cell_type": "code",
   "execution_count": null,
   "metadata": {},
   "outputs": [],
   "source": [
    "import pandas as pd\n",
    "import pandas as pd\n",
    "import numpy as np\n",
    "import re\n",
    "import nltk\n",
    "from nltk.corpus import stopwords\n",
    "from numpy import array\n",
    "from numpy import asarray\n",
    "from numpy import zeros\n",
    "from numpy import array\n",
>>>>>>> 7de7cdf760321fffc49c4d392a19172fd07dae3c
    "from keras.preprocessing.text import one_hot\n",
    "from keras.preprocessing.sequence import pad_sequences\n",
    "from keras.models import Sequential\n",
    "from keras.layers.core import Activation, Dropout, Dense\n",
    "from keras.layers import Flatten\n",
    "from keras.layers import GlobalMaxPooling1D\n",
    "from keras.layers.embeddings import Embedding\n",
    "from sklearn.model_selection import train_test_split\n",
    "from keras.preprocessing.text import Tokenizer\n",
<<<<<<< HEAD
    "from keras.layers import Dense\n",
    "from keras.constraints import max_norm\n",
    "from keras.regularizers import l1,l2\n",
    "from keras import optimizers\n",
    "import keras\n",
    "from sklearn.metrics import accuracy_score\n",
    "from sklearn.metrics import precision_score\n",
    "from sklearn.metrics import recall_score\n",
    "from sklearn.metrics import f1_score\n",
    "from sklearn.metrics import cohen_kappa_score\n",
    "from sklearn.metrics import roc_auc_score\n",
    "from sklearn.metrics import confusion_matrix\n",
    "maxlen = 100\n",
    "model = Sequential()\n",
    "embedding_layer = Embedding(vocab_size, 50, weights=[embedding_matrix], input_length=maxlen)\n",
    "model.add(embedding_layer)\n",
    "model.add(Dense(32, activity_regularizer=l1(0.001), activation='relu'))\n",
    "model.add(Dropout(0.4))\n",
    "\n",
    "\n",
    "model.add(Dense(64, activation='relu'))\n",
    "model.add(Dropout(0.4))\n",
    "\n",
    "model.add(Dense(128, activation='relu'))\n",
    "model.add(Dropout(0.4))\n",
    "\n",
    "\n",
    "model.add(Dense(512, activation='relu'))\n",
    "model.add(Dropout(0.4))\n",
    "\n",
    "\n",
    "\n",
    "model.add(Dense(128, activation='relu'))\n",
    "model.add(Dropout(0.4))\n",
    "\n",
    "\n",
    "model.add(Flatten())\n",
    "model.add(Dropout(0.4))\n",
    "model.add(Dense(512,activation='relu'))\n",
    "\n",
    "model.add(Dense(1,activation='sigmoid'))\n",
    "model.compile(optimizer=optimizers.adam(lr=.0001), loss='binary_crossentropy', metrics=['acc'])\n",
    "es_callback = keras.callbacks.EarlyStopping(monitor='val_loss', patience=3)\n",
    "print(model.summary())\n",
    "history = model.fit(X_train, y_train, batch_size=64, epochs=40, validation_data=(X_test, y_test), callbacks=[es_callback])\n",
    "\n",
    "\n",
    "import matplotlib.pyplot as plt\n",
    "plt.plot(history.history['acc'])\n",
    "plt.plot(history.history['val_acc'])\n",
    "plt.title('model accuracy')\n",
    "plt.ylabel('accuracy')\n",
    "plt.xlabel('epoch')\n",
    "plt.legend(['train','test'], loc='upper left')\n",
    "plt.show()\n",
    "\n",
    "plt.plot(history.history['loss'])\n",
    "plt.plot(history.history['val_loss'])\n",
    "\n",
    "plt.title('model loss')\n",
    "plt.ylabel('loss')\n",
    "plt.xlabel('epoch')\n",
    "plt.legend(['train','test'], loc='upper left')\n",
    "plt.show()\n",
    "loss, accuracy = model.evaluate(X_train, y_train, verbose=1)\n",
    "print('Training Accuracy is {}'.format(accuracy*100))\n",
    "\n",
    "loss, accuracy = model.evaluate(X_test,y_test)\n",
    "\n",
    "\n",
    "print('Testing Accuracy is {} '.format(accuracy*100))\n",
    "\n",
    "\n",
    "yhat_classes = model.predict_classes(X_test)\n",
    "\n",
    "\n",
    "accuracy = accuracy_score(y_test, yhat_classes)\n",
    "print('Accuracy: %f' % accuracy)\n",
    "# precision tp / (tp + fp)\n",
    "precision = precision_score(y_test, yhat_classes)\n",
    "print('Precision: %f' % precision)\n",
    "# recall: tp / (tp + fn)\n",
    "recall = recall_score(y_test, yhat_classes)\n",
    "print('Recall: %f' % recall)\n",
    "# f1: 2 tp / (2 tp + fp + fn)\n",
    "f1 = f1_score(y_test, yhat_classes)\n",
    "print('F1 score: %f' % f1)\n",
    "matrix = confusion_matrix(y_test, yhat_classes)\n",
    "print(matrix)"
=======
    "class Metrics:\n",
    "    def __init__(self, df):\n",
    "        self.df = pd.read_pickle(df)\n",
    "        self.union_speeches = []\n",
    "        self.rally_speeches = []\n",
    "        \n",
    "    def find_avg_word_length(self):\n",
    "        average_res = []\n",
    "        rally = self._get_speeches_list_from_df(self.df,1)\n",
    "        union = self._get_speeches_list_from_df(self.df,0)\n",
    "        self.rally_speeches.append(rally)\n",
    "        self.union_speeches.append(union)\n",
    "        word_count = 0\n",
    "        total_characters = 0\n",
    "        for speech_list in [rally, union]:\n",
    "            for speech in speech_list:\n",
    "                word_count += len(speech.split())\n",
    "                total_characters += len(speech) - speech.count(' ')\n",
    "                \n",
    "            avg_word_length = total_characters / word_count\n",
    "            average_res.append(round(avg_word_length,2))\n",
    "            \n",
    "            \n",
    "        return average_res\n",
    "\n",
    "\n",
    "    def _get_speeches_list_from_df(self, df, attr_val):\n",
    "        df_speeches = df.loc[df['type'] == attr_val]\n",
    "        speeches_list = df_speeches['transcript'].tolist()\n",
    "\n",
    "        return speeches_list"
   ]
  },
  {
   "cell_type": "code",
   "execution_count": null,
   "metadata": {},
   "outputs": [],
   "source": [
    "trump_snippits = Metrics(\"TRUMP_SNIPPETS_DF.pickle\")\n",
    "trump_speeches = Metrics('trump_speeches_df.pickle')\n",
    "obama_speeches = Metrics('obama_speeches_df.pickle')\n",
    "obama_snippits = Metrics('OBAMA_SNIPPETS_DF.pickle')\n",
    "\n",
    "\n",
    "print(trump_snippits.find_avg_word_length(), trump_speeches.find_avg_word_length())\n",
    "print(obama_snippits.find_avg_word_length(), obama_speeches.find_avg_word_length())"
>>>>>>> 7de7cdf760321fffc49c4d392a19172fd07dae3c
   ]
  },
  {
   "cell_type": "code",
<<<<<<< HEAD
   "execution_count": 42,
   "metadata": {},
   "outputs": [
    {
     "name": "stdout",
     "output_type": "stream",
     "text": [
      "4000/4000 [==============================] - 0s 74us/step\n",
      "Training Accuracy is 83.92500281333923\n",
      "4000/4000 [==============================] - 0s 79us/step\n",
      "Testing Accuracy is 79.12499904632568 \n"
     ]
    }
   ],
   "source": [
    "import numpy as np\n",
    "class load_file:\n",
    "    def __init__(self, file):\n",
    "        self.file = file\n",
    "\n",
    "    def get_data(self):\n",
    "        hal = np.load(self.file)\n",
    "        X_train, y_train, X_test, y_test,vocab_size, embedding_matrix = [hal[f] for f in hal.files]\n",
    "        return X_train, y_train, X_test, y_test,vocab_size, embedding_matrix\n",
    "\n",
    "\n",
    "df = load_file('ObamaSplitData.npz')\n",
    "X_train, y_train, X_test, y_test,vocab_size, embedding_matrix = df.get_data()\n",
    "\n",
    "loss, accuracy = model.evaluate(X_train, y_train, verbose=1)\n",
    "print('Training Accuracy is {}'.format(accuracy*100))\n",
    "\n",
    "loss, accuracy = model.evaluate(X_test,y_test)\n",
    "\n",
    "\n",
    "print('Testing Accuracy is {} '.format(accuracy*100))"
   ]
  },
  {
   "cell_type": "code",
   "execution_count": 43,
   "metadata": {},
   "outputs": [
    {
     "ename": "NameError",
     "evalue": "name 'cnn4' is not defined",
     "output_type": "error",
     "traceback": [
      "\u001b[0;31m---------------------------------------------------------------------------\u001b[0m",
      "\u001b[0;31mNameError\u001b[0m                                 Traceback (most recent call last)",
      "\u001b[0;32m<ipython-input-43-05dcef88aa9d>\u001b[0m in \u001b[0;36m<module>\u001b[0;34m\u001b[0m\n\u001b[0;32m----> 1\u001b[0;31m \u001b[0mcnn4\u001b[0m\u001b[0;34m.\u001b[0m\u001b[0msave\u001b[0m\u001b[0;34m(\u001b[0m\u001b[0;34m\"ObamaModel.h5\"\u001b[0m\u001b[0;34m)\u001b[0m\u001b[0;34m\u001b[0m\u001b[0;34m\u001b[0m\u001b[0m\n\u001b[0m\u001b[1;32m      2\u001b[0m \u001b[0mprint\u001b[0m\u001b[0;34m(\u001b[0m\u001b[0;34m\"Saved model to disk\"\u001b[0m\u001b[0;34m)\u001b[0m\u001b[0;34m\u001b[0m\u001b[0;34m\u001b[0m\u001b[0m\n",
      "\u001b[0;31mNameError\u001b[0m: name 'cnn4' is not defined"
     ]
    }
   ],
   "source": [
    "cnn4.save(\"ObamaModel.h5\")\n",
    "print(\"Saved model to disk\")"
=======
   "execution_count": null,
   "metadata": {},
   "outputs": [],
   "source": []
  },
  {
   "cell_type": "code",
   "execution_count": null,
   "metadata": {},
   "outputs": [],
   "source": [
    "import re\n",
    "import nltk\n",
    "from nltk.corpus import stopwords\n",
    "\n",
    "nltk.download('stopwords')\n",
    "from nltk.tokenize import word_tokenize\n",
    "\n",
    "def preprocess_text(sen):\n",
    "    # Remove punctuations and numbers\n",
    "    sentence = re.sub('[^a-zA-Z]', ' ', sen)\n",
    "\n",
    "    # Single character removal\n",
    "    sentence = re.sub(r\"\\s+[a-zA-Z]\\s+\", ' ', sentence)\n",
    "\n",
    "    # Removing multiple spaces\n",
    "    sentence = re.sub(r'\\s+', ' ', sentence)\n",
    "\n",
    "    return sentence"
>>>>>>> 7de7cdf760321fffc49c4d392a19172fd07dae3c
   ]
  },
  {
   "cell_type": "code",
<<<<<<< HEAD
   "execution_count": 39,
   "metadata": {},
   "outputs": [],
   "source": [
    "import itertools\n",
    "def plot_confusion_matrix(cm, classes,\n",
    "                          normalize=False,\n",
    "                          title='Confusion matrix',\n",
    "                          cmap=plt.cm.Blues):\n",
    "    \"\"\"\n",
    "    This function prints and plots the confusion matrix.\n",
    "    Normalization can be applied by setting `normalize=True`.\n",
    "    \"\"\"\n",
    "    plt.imshow(cm, interpolation='nearest', cmap=cmap)\n",
    "    plt.title(title)\n",
    "    plt.colorbar()\n",
    "    tick_marks = np.arange(len(classes))\n",
    "    plt.xticks(tick_marks, classes, rotation=45)\n",
    "    plt.yticks(tick_marks, classes)\n",
    "\n",
    "    if normalize:\n",
    "        cm = cm.astype('float') / cm.sum(axis=1)[:, np.newaxis]\n",
    "        print(\"Normalized confusion matrix\")\n",
    "    else:\n",
    "        print('Confusion matrix, without normalization')\n",
    "\n",
    "    print(cm)\n",
    "\n",
    "    thresh = cm.max() / 2.\n",
    "    for i, j in itertools.product(range(cm.shape[0]), range(cm.shape[1])):\n",
    "        plt.text(j, i, cm[i, j],\n",
    "                 horizontalalignment=\"center\",\n",
    "                 color=\"white\" if cm[i, j] > thresh else \"black\")\n",
    "\n",
    "    plt.tight_layout()\n",
    "    plt.ylabel('True label')\n",
    "    plt.xlabel('Predicted label')"
=======
   "execution_count": null,
   "metadata": {},
   "outputs": [],
   "source": [
    "import numpy as np\n",
    "from sklearn.model_selection import train_test_split\n",
    "from sklearn.model_selection import StratifiedShuffleSplit\n",
    "class Compress:\n",
    "    def save_as_npz(self,df,npz_name=None,tran_data='transcript',label='type'):\n",
    "        X = []\n",
    "        y = np.array(df[label])\n",
    "        sentences = np.array(df[tran_data])\n",
    "        for sen in sentences:\n",
    "            X.append(preprocess_text(sen))\n",
    "                        \n",
    "        self._train_test_split(np.array([X]).T, np.array(y), npz_filename=npz_name)\n",
    "        \n",
    "        \n",
    "\n",
    "    def _train_test_split(self,X,y,npz_filename=''+'.npz',test_size=0.2, random_state=42):\n",
    "        sss = StratifiedShuffleSplit(n_splits=5, test_size=0.5, random_state=0)\n",
    "        sss.get_n_splits(np.array(X), y)\n",
    "        for train_index, test_index in sss.split(X, y):\n",
    "            X_train, X_test = X[train_index], X[test_index]\n",
    "            y_train, y_test = y[train_index], y[test_index]\n",
    "        print(X_train.shape, y_train.shape, X_test.shape, y_test.shape)\n",
    "        tokenizer = Tokenizer(num_words=5000)\n",
    "        tokenizer.fit_on_texts(X_train.ravel())\n",
    "        X_train = tokenizer.texts_to_sequences(X_train.ravel())\n",
    "        X_test = tokenizer.texts_to_sequences(X_test.ravel())\n",
    "        \n",
    "        vocab_size = len(tokenizer.word_index) + 1\n",
    "\n",
    "        maxlen = 100\n",
    "\n",
    "        X_train = pad_sequences(X_train, padding='post', maxlen=maxlen)\n",
    "        X_test = pad_sequences(X_test, padding='post', maxlen=maxlen)\n",
    "        \n",
    "        embeddings_dictionary = dict()\n",
    "        glove_file = open('glove.6B.50d.txt', encoding=\"utf8\")\n",
    "\n",
    "        for line in glove_file:\n",
    "            records = line.split()\n",
    "            word = records[0]\n",
    "            vector_dimensions = asarray(records[1:], dtype='float32')\n",
    "            embeddings_dictionary [word] = vector_dimensions\n",
    "        glove_file.close()\n",
    "        embedding_matrix = zeros((vocab_size, 50))\n",
    "        for word, index in tokenizer.word_index.items():\n",
    "            embedding_vector = embeddings_dictionary.get(word)\n",
    "            if embedding_vector is not None:\n",
    "                embedding_matrix[index] = embedding_vector\n",
    "        \n",
    "        np.savez_compressed(npz_filename,\n",
    "                        X_train=X_train,\n",
    "                        y_train=y_train,\n",
    "                        X_test=X_test,\n",
    "                        y_test=y_test,\n",
    "                        vocab_size=vocab_size, \n",
    "                        embedding_matrix=embedding_matrix)\n",
    "        print(\"Saved {} as .npz\".format(npz_filename))\n",
    "    "
>>>>>>> 7de7cdf760321fffc49c4d392a19172fd07dae3c
   ]
  },
  {
   "cell_type": "code",
<<<<<<< HEAD
   "execution_count": 40,
=======
   "execution_count": null,
   "metadata": {},
   "outputs": [],
   "source": [
    "compress = Compress()\n",
    "compress.save_as_npz(trump_data, npz_name='TrumpSplitData')\n",
    "compress.save_as_npz(obama_data, npz_name='ObamaSplitData')"
   ]
  },
  {
   "cell_type": "code",
   "execution_count": 5,
   "metadata": {},
   "outputs": [],
   "source": [
    "import numpy as np\n",
    "class load_file:\n",
    "    def __init__(self, file):\n",
    "        self.file = file\n",
    "\n",
    "    def get_data(self):\n",
    "        hal = np.load(self.file)\n",
    "        X_train, y_train, X_test, y_test,vocab_size, embedding_matrix = [hal[f] for f in hal.files]\n",
    "        return X_train, y_train, X_test, y_test,vocab_size, embedding_matrix\n",
    "\n",
    "\n",
    "df = load_file('ObamaSplitData.npz')\n",
    "X_train, y_train, X_test, y_test,vocab_size, embedding_matrix = df.get_data()"
   ]
  },
  {
   "cell_type": "code",
   "execution_count": null,
   "metadata": {},
   "outputs": [],
   "source": []
  },
  {
   "cell_type": "code",
   "execution_count": 6,
>>>>>>> 7de7cdf760321fffc49c4d392a19172fd07dae3c
   "metadata": {},
   "outputs": [
    {
     "name": "stdout",
     "output_type": "stream",
     "text": [
<<<<<<< HEAD
      "Confusion matrix, without normalization\n",
      "[[1603  397]\n",
      " [ 438 1562]]\n"
     ]
    },
    {
     "data": {
      "image/png": "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\n",
      "text/plain": [
       "<Figure size 432x288 with 2 Axes>"
=======
      "Model: \"sequential_3\"\n",
      "_________________________________________________________________\n",
      "Layer (type)                 Output Shape              Param #   \n",
      "=================================================================\n",
      "embedding_3 (Embedding)      (None, 100, 50)           312300    \n",
      "_________________________________________________________________\n",
      "dense_17 (Dense)             (None, 100, 64)           3264      \n",
      "_________________________________________________________________\n",
      "dropout_15 (Dropout)         (None, 100, 64)           0         \n",
      "_________________________________________________________________\n",
      "dense_18 (Dense)             (None, 100, 64)           4160      \n",
      "_________________________________________________________________\n",
      "dropout_16 (Dropout)         (None, 100, 64)           0         \n",
      "_________________________________________________________________\n",
      "dense_19 (Dense)             (None, 100, 32)           2080      \n",
      "_________________________________________________________________\n",
      "dropout_17 (Dropout)         (None, 100, 32)           0         \n",
      "_________________________________________________________________\n",
      "dense_20 (Dense)             (None, 100, 64)           2112      \n",
      "_________________________________________________________________\n",
      "dropout_18 (Dropout)         (None, 100, 64)           0         \n",
      "_________________________________________________________________\n",
      "dense_21 (Dense)             (None, 100, 128)          8320      \n",
      "_________________________________________________________________\n",
      "dropout_19 (Dropout)         (None, 100, 128)          0         \n",
      "_________________________________________________________________\n",
      "dense_22 (Dense)             (None, 100, 64)           8256      \n",
      "_________________________________________________________________\n",
      "dropout_20 (Dropout)         (None, 100, 64)           0         \n",
      "_________________________________________________________________\n",
      "flatten_3 (Flatten)          (None, 6400)              0         \n",
      "_________________________________________________________________\n",
      "dropout_21 (Dropout)         (None, 6400)              0         \n",
      "_________________________________________________________________\n",
      "dense_23 (Dense)             (None, 32)                204832    \n",
      "_________________________________________________________________\n",
      "dense_24 (Dense)             (None, 1)                 33        \n",
      "=================================================================\n",
      "Total params: 545,357\n",
      "Trainable params: 545,357\n",
      "Non-trainable params: 0\n",
      "_________________________________________________________________\n",
      "None\n"
     ]
    },
    {
     "name": "stderr",
     "output_type": "stream",
     "text": [
      "/home/daniel/anaconda3/lib/python3.7/site-packages/tensorflow_core/python/framework/indexed_slices.py:433: UserWarning: Converting sparse IndexedSlices to a dense Tensor of unknown shape. This may consume a large amount of memory.\n",
      "  \"Converting sparse IndexedSlices to a dense Tensor of unknown shape. \"\n"
     ]
    },
    {
     "name": "stdout",
     "output_type": "stream",
     "text": [
      "Train on 2013 samples, validate on 2014 samples\n",
      "Epoch 1/200\n",
      "2013/2013 [==============================] - 1s 451us/step - loss: 262.1441 - acc: 0.7109 - val_loss: 127.9799 - val_acc: 0.7324\n",
      "Epoch 2/200\n",
      "2013/2013 [==============================] - 0s 204us/step - loss: 84.1580 - acc: 0.7298 - val_loss: 45.7839 - val_acc: 0.7324\n",
      "Epoch 3/200\n",
      "2013/2013 [==============================] - 0s 194us/step - loss: 34.7174 - acc: 0.7322 - val_loss: 21.5898 - val_acc: 0.7324\n",
      "Epoch 4/200\n",
      "2013/2013 [==============================] - 0s 193us/step - loss: 18.4215 - acc: 0.7322 - val_loss: 12.3863 - val_acc: 0.7324\n",
      "Epoch 5/200\n",
      "2013/2013 [==============================] - 0s 202us/step - loss: 11.4850 - acc: 0.7322 - val_loss: 7.9885 - val_acc: 0.7324\n",
      "Epoch 6/200\n",
      "2013/2013 [==============================] - 0s 200us/step - loss: 7.8690 - acc: 0.7322 - val_loss: 5.6102 - val_acc: 0.7324\n",
      "Epoch 7/200\n",
      "2013/2013 [==============================] - 0s 194us/step - loss: 5.7728 - acc: 0.7322 - val_loss: 4.1647 - val_acc: 0.7324\n",
      "Epoch 8/200\n",
      "2013/2013 [==============================] - 0s 192us/step - loss: 4.4363 - acc: 0.7303 - val_loss: 3.2401 - val_acc: 0.7324\n",
      "Epoch 9/200\n",
      "2013/2013 [==============================] - 0s 189us/step - loss: 3.5405 - acc: 0.7342 - val_loss: 2.6166 - val_acc: 0.7324\n",
      "Epoch 10/200\n",
      "2013/2013 [==============================] - 0s 194us/step - loss: 2.9120 - acc: 0.7412 - val_loss: 2.1900 - val_acc: 0.7324\n",
      "Epoch 11/200\n",
      "2013/2013 [==============================] - 0s 204us/step - loss: 2.4408 - acc: 0.7521 - val_loss: 1.8815 - val_acc: 0.7324\n",
      "Epoch 12/200\n",
      "2013/2013 [==============================] - 0s 188us/step - loss: 2.0894 - acc: 0.7635 - val_loss: 1.6560 - val_acc: 0.7324\n",
      "Epoch 13/200\n",
      "2013/2013 [==============================] - 0s 192us/step - loss: 1.8154 - acc: 0.7685 - val_loss: 1.4477 - val_acc: 0.7354\n",
      "Epoch 14/200\n",
      "2013/2013 [==============================] - 0s 199us/step - loss: 1.5878 - acc: 0.7889 - val_loss: 1.3649 - val_acc: 0.7358\n",
      "Epoch 15/200\n",
      "2013/2013 [==============================] - 0s 197us/step - loss: 1.4066 - acc: 0.7859 - val_loss: 1.2044 - val_acc: 0.7398\n",
      "Epoch 16/200\n",
      "2013/2013 [==============================] - 0s 193us/step - loss: 1.2781 - acc: 0.7869 - val_loss: 1.0582 - val_acc: 0.7473\n",
      "Epoch 17/200\n",
      "2013/2013 [==============================] - 0s 191us/step - loss: 1.1289 - acc: 0.8097 - val_loss: 0.9783 - val_acc: 0.7557\n",
      "Epoch 18/200\n",
      "2013/2013 [==============================] - 0s 205us/step - loss: 1.0305 - acc: 0.8137 - val_loss: 0.9801 - val_acc: 0.7507\n",
      "Epoch 19/200\n",
      "2013/2013 [==============================] - 0s 197us/step - loss: 0.9250 - acc: 0.8351 - val_loss: 0.7919 - val_acc: 0.7890\n",
      "Epoch 20/200\n",
      "2013/2013 [==============================] - 0s 193us/step - loss: 0.8566 - acc: 0.8296 - val_loss: 0.8736 - val_acc: 0.7666\n",
      "Epoch 21/200\n",
      "2013/2013 [==============================] - 0s 190us/step - loss: 0.7743 - acc: 0.8544 - val_loss: 0.7208 - val_acc: 0.7974\n",
      "Epoch 22/200\n",
      "2013/2013 [==============================] - 0s 195us/step - loss: 0.6960 - acc: 0.8669 - val_loss: 0.6941 - val_acc: 0.8039\n",
      "Epoch 23/200\n",
      "2013/2013 [==============================] - 0s 193us/step - loss: 0.6397 - acc: 0.8763 - val_loss: 0.6288 - val_acc: 0.8222\n",
      "Epoch 24/200\n",
      "2013/2013 [==============================] - 0s 199us/step - loss: 0.5780 - acc: 0.8887 - val_loss: 0.6959 - val_acc: 0.8064\n",
      "Epoch 25/200\n",
      "2013/2013 [==============================] - 0s 198us/step - loss: 0.5438 - acc: 0.8967 - val_loss: 0.5553 - val_acc: 0.8476\n",
      "Epoch 26/200\n",
      "2013/2013 [==============================] - 0s 194us/step - loss: 0.4964 - acc: 0.9006 - val_loss: 0.5307 - val_acc: 0.8565\n",
      "Epoch 27/200\n",
      "2013/2013 [==============================] - 0s 191us/step - loss: 0.4564 - acc: 0.9121 - val_loss: 0.6057 - val_acc: 0.8337\n",
      "Epoch 28/200\n",
      "2013/2013 [==============================] - 0s 194us/step - loss: 0.4284 - acc: 0.9136 - val_loss: 0.4810 - val_acc: 0.8630\n",
      "Epoch 29/200\n",
      "2013/2013 [==============================] - 0s 196us/step - loss: 0.3848 - acc: 0.9319 - val_loss: 0.5594 - val_acc: 0.8486\n",
      "Epoch 30/200\n",
      "2013/2013 [==============================] - 0s 196us/step - loss: 0.3555 - acc: 0.9374 - val_loss: 0.5124 - val_acc: 0.8585\n",
      "Epoch 31/200\n",
      "2013/2013 [==============================] - 0s 195us/step - loss: 0.3298 - acc: 0.9364 - val_loss: 0.4455 - val_acc: 0.8729\n",
      "Epoch 32/200\n",
      "2013/2013 [==============================] - 0s 195us/step - loss: 0.3168 - acc: 0.9354 - val_loss: 0.4212 - val_acc: 0.8793\n",
      "Epoch 33/200\n",
      "2013/2013 [==============================] - 0s 192us/step - loss: 0.2867 - acc: 0.9434 - val_loss: 0.4370 - val_acc: 0.8694\n",
      "Epoch 34/200\n",
      "2013/2013 [==============================] - 0s 193us/step - loss: 0.2810 - acc: 0.9434 - val_loss: 0.5006 - val_acc: 0.8570\n",
      "Epoch 35/200\n",
      "2013/2013 [==============================] - 0s 194us/step - loss: 0.2487 - acc: 0.9538 - val_loss: 0.4964 - val_acc: 0.8644\n"
     ]
    },
    {
     "data": {
      "image/png": "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\n",
      "text/plain": [
       "<Figure size 432x288 with 1 Axes>"
>>>>>>> 7de7cdf760321fffc49c4d392a19172fd07dae3c
      ]
     },
     "metadata": {
      "needs_background": "light"
     },
     "output_type": "display_data"
<<<<<<< HEAD
    }
   ],
   "source": [
    "cm =confusion_matrix(y_test, yhat_classes)\n",
    "labels = ['Rally', 'Union']\n",
    "plot_confusion_matrix(cm, labels, title='Confusion Matrix')"
=======
    },
    {
     "data": {
      "image/png": "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\n",
      "text/plain": [
       "<Figure size 432x288 with 1 Axes>"
      ]
     },
     "metadata": {
      "needs_background": "light"
     },
     "output_type": "display_data"
    },
    {
     "name": "stdout",
     "output_type": "stream",
     "text": [
      "2013/2013 [==============================] - 0s 73us/step\n",
      "Training Accuracy is 98.11227321624756\n",
      "2014/2014 [==============================] - 0s 75us/step\n",
      "Testing Accuracy is 86.44488453865051 \n"
     ]
    }
   ],
   "source": [
    "from keras.preprocessing.text import one_hot\n",
    "from keras.preprocessing.sequence import pad_sequences\n",
    "from keras.models import Sequential\n",
    "from keras.layers.core import Activation, Dropout, Dense\n",
    "from keras.layers import Flatten\n",
    "from keras.layers import GlobalMaxPooling1D\n",
    "from keras.layers.embeddings import Embedding\n",
    "from sklearn.model_selection import train_test_split\n",
    "from keras.preprocessing.text import Tokenizer\n",
    "from keras.layers import Dense\n",
    "from keras.constraints import max_norm\n",
    "from keras.regularizers import l1,l2\n",
    "from keras import optimizers\n",
    "import keras\n",
    "maxlen = 100\n",
    "model = Sequential()\n",
    "embedding_layer = Embedding(vocab_size, 50, weights=[embedding_matrix], input_length=maxlen)\n",
    "model.add(embedding_layer)\n",
    "model.add(Dense(64, activity_regularizer=l2(0.01), activation='relu'))\n",
    "model.add(Dropout(0.4))\n",
    "\n",
    "\n",
    "model.add(Dense(64, activation='relu'))\n",
    "model.add(Dropout(0.6))\n",
    "\n",
    "\n",
    "\n",
    "model.add(Dense(32, activation='relu'))\n",
    "model.add(Dropout(0.6))\n",
    "\n",
    "\n",
    "\n",
    "model.add(Dense(64, activation='relu'))\n",
    "model.add(Dropout(0.6))\n",
    "\n",
    "\n",
    "\n",
    "model.add(Dense(128, activation='relu'))\n",
    "model.add(Dropout(0.6))\n",
    "\n",
    "\n",
    "\n",
    "\n",
    "model.add(Dense(64, activation='relu'))\n",
    "model.add(Dropout(0.6))\n",
    "\n",
    "\n",
    "\n",
    "model.add(Flatten())\n",
    "model.add(Dropout(0.6))\n",
    "model.add(Dense(32,activation='relu'))\n",
    "\n",
    "model.add(Dense(1,activation='sigmoid'))\n",
    "model.compile(optimizer=optimizers.adam(), loss='binary_crossentropy', metrics=['acc'])\n",
    "es_callback = keras.callbacks.EarlyStopping(monitor='val_loss', patience=3)\n",
    "print(model.summary())\n",
    "history = model.fit(X_train, y_train, batch_size=64, epochs=200, validation_data=(X_test, y_test), callbacks=[es_callback])\n",
    "\n",
    "\n",
    "import matplotlib.pyplot as plt\n",
    "plt.plot(history.history['acc'])\n",
    "plt.plot(history.history['val_acc'])\n",
    "plt.title('model accuracy')\n",
    "plt.ylabel('accuracy')\n",
    "plt.xlabel('epoch')\n",
    "plt.legend(['train','test'], loc='upper left')\n",
    "plt.show()\n",
    "\n",
    "plt.plot(history.history['loss'])\n",
    "plt.plot(history.history['val_loss'])\n",
    "\n",
    "plt.title('model loss')\n",
    "plt.ylabel('loss')\n",
    "plt.xlabel('epoch')\n",
    "plt.legend(['train','test'], loc='upper left')\n",
    "plt.show()\n",
    "loss, accuracy = model.evaluate(X_train, y_train, verbose=1)\n",
    "print('Training Accuracy is {}'.format(accuracy*100))\n",
    "\n",
    "loss, accuracy = model.evaluate(X_test,y_test)\n",
    "\n",
    "\n",
    "print('Testing Accuracy is {} '.format(accuracy*100))"
>>>>>>> 7de7cdf760321fffc49c4d392a19172fd07dae3c
   ]
  },
  {
   "cell_type": "code",
   "execution_count": null,
   "metadata": {},
   "outputs": [],
   "source": []
  },
  {
   "cell_type": "code",
   "execution_count": null,
   "metadata": {},
   "outputs": [],
   "source": []
  },
  {
   "cell_type": "code",
   "execution_count": null,
   "metadata": {},
   "outputs": [],
   "source": []
<<<<<<< HEAD
=======
  },
  {
   "cell_type": "code",
   "execution_count": null,
   "metadata": {},
   "outputs": [],
   "source": []
>>>>>>> 7de7cdf760321fffc49c4d392a19172fd07dae3c
  }
 ],
 "metadata": {
  "kernelspec": {
   "display_name": "Python 3",
   "language": "python",
   "name": "python3"
  },
  "language_info": {
   "codemirror_mode": {
    "name": "ipython",
    "version": 3
   },
   "file_extension": ".py",
   "mimetype": "text/x-python",
   "name": "python",
   "nbconvert_exporter": "python",
   "pygments_lexer": "ipython3",
   "version": "3.7.6"
  }
 },
 "nbformat": 4,
 "nbformat_minor": 4
}
