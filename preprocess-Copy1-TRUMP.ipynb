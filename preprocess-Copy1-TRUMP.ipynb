{
 "cells": [
  {
   "cell_type": "code",
   "execution_count": 45,
   "metadata": {},
   "outputs": [],
   "source": [
    "import pickle\n",
    "trump_data = pickle.load(open(\"TRUMP_SNIPPETS_DF.pickle\", \"rb\" ))\n",
    "obama_data = pickle.load(open(\"OBAMA_SNIPPETS_DF.pickle\", \"rb\" ))"
   ]
  },
  {
   "cell_type": "code",
   "execution_count": 46,
   "metadata": {},
   "outputs": [
    {
     "data": {
      "text/plain": [
       "<matplotlib.axes._subplots.AxesSubplot at 0x7f6064287dd0>"
      ]
     },
     "execution_count": 46,
     "metadata": {},
     "output_type": "execute_result"
    },
    {
     "data": {
      "image/png": "[encoded data removed]",
      "text/plain": [
       "<Figure size 432x288 with 1 Axes>"
      ]
     },
     "metadata": {
      "needs_background": "light"
     },
     "output_type": "display_data"
    }
   ],
   "source": [
    "import seaborn as sns\n",
    "sns.countplot(x='type', data=trump_data)"
   ]
  },
  {
   "cell_type": "code",
   "execution_count": 47,
   "metadata": {},
   "outputs": [
    {
     "data": {
      "text/plain": [
       "<matplotlib.axes._subplots.AxesSubplot at 0x7f61a00c8510>"
      ]
     },
     "execution_count": 47,
     "metadata": {},
     "output_type": "execute_result"
    },
    {
     "data": {
      "image/png": "[encoded data removed]",
      "text/plain": [
       "<Figure size 432x288 with 1 Axes>"
      ]
     },
     "metadata": {
      "needs_background": "light"
     },
     "output_type": "display_data"
    }
   ],
   "source": [
    "sns.countplot(x='type', data=obama_data)"
   ]
  },
  {
   "cell_type": "code",
   "execution_count": 48,
   "metadata": {},
   "outputs": [],
   "source": [
    "import pandas as pd\n",
    "import pandas as pd\n",
    "import numpy as np\n",
    "import re\n",
    "import nltk\n",
    "from nltk.corpus import stopwords\n",
    "from numpy import array\n",
    "from numpy import asarray\n",
    "from numpy import zeros\n",
    "from numpy import array\n",
    "from keras.preprocessing.text import one_hot\n",
    "from keras.preprocessing.sequence import pad_sequences\n",
    "from keras.models import Sequential\n",
    "from keras.layers.core import Activation, Dropout, Dense\n",
    "from keras.layers import Flatten\n",
    "from keras.layers import GlobalMaxPooling1D\n",
    "from keras.layers.embeddings import Embedding\n",
    "from sklearn.model_selection import train_test_split\n",
    "from keras.preprocessing.text import Tokenizer\n",
    "class Metrics:\n",
    "    def __init__(self, df):\n",
    "        self.df = pd.read_pickle(df)\n",
    "        self.union_speeches = []\n",
    "        self.rally_speeches = []\n",
    "        \n",
    "    def find_avg_word_length(self):\n",
    "        average_res = []\n",
    "        rally = self._get_speeches_list_from_df(self.df,1)\n",
    "        union = self._get_speeches_list_from_df(self.df,0)\n",
    "        self.rally_speeches.append(rally)\n",
    "        self.union_speeches.append(union)\n",
    "        word_count = 0\n",
    "        total_characters = 0\n",
    "        for speech_list in [rally, union]:\n",
    "            for speech in speech_list:\n",
    "                word_count += len(speech.split())\n",
    "                total_characters += len(speech) - speech.count(' ')\n",
    "                \n",
    "            avg_word_length = total_characters / word_count\n",
    "            average_res.append(round(avg_word_length,2))\n",
    "            \n",
    "            \n",
    "        return average_res\n",
    "\n",
    "\n",
    "    def _get_speeches_list_from_df(self, df, attr_val):\n",
    "        df_speeches = df.loc[df['type'] == attr_val]\n",
    "        speeches_list = df_speeches['transcript'].tolist()\n",
    "\n",
    "        return speeches_list"
   ]
  },
  {
   "cell_type": "code",
   "execution_count": 49,
   "metadata": {},
   "outputs": [
    {
     "name": "stdout",
     "output_type": "stream",
     "text": [
      "[5.57, 5.91] [4.25, 4.31]\n",
      "[5.64, 5.91] [4.24, 4.33]\n"
     ]
    }
   ],
   "source": [
    "trump_snippits = Metrics(\"TRUMP_SNIPPETS_DF.pickle\")\n",
    "trump_speeches = Metrics('trump_speeches_df.pickle')\n",
    "obama_speeches = Metrics('obama_speeches_df.pickle')\n",
    "obama_snippits = Metrics('OBAMA_SNIPPETS_DF.pickle')\n",
    "\n",
    "\n",
    "print(trump_snippits.find_avg_word_length(), trump_speeches.find_avg_word_length())\n",
    "print(obama_snippits.find_avg_word_length(), obama_speeches.find_avg_word_length())"
   ]
  },
  {
   "cell_type": "code",
   "execution_count": null,
   "metadata": {},
   "outputs": [],
   "source": []
  },
  {
   "cell_type": "code",
   "execution_count": 52,
   "metadata": {},
   "outputs": [
    {
     "name": "stderr",
     "output_type": "stream",
     "text": [
      "[nltk_data] Downloading package stopwords to /home/daniel/nltk_data...\n",
      "[nltk_data]   Package stopwords is already up-to-date!\n"
     ]
    }
   ],
   "source": [
    "import re\n",
    "import nltk\n",
    "from nltk.corpus import stopwords\n",
    "\n",
    "nltk.download('stopwords')\n",
    "from nltk.tokenize import word_tokenize\n",
    "\n",
    "def preprocess_text(sen):\n",
    "    # Remove punctuations and numbers\n",
    "    sentence = re.sub('[^a-zA-Z]', ' ', sen)\n",
    "\n",
    "    # Single character removal\n",
    "    sentence = re.sub(r\"\\s+[a-zA-Z]\\s+\", ' ', sentence)\n",
    "    # Removing multiple spaces\n",
    "    sentence = re.sub(r'\\s+', ' ', sentence)\n",
    "\n",
    "    return sentence"
   ]
  },
  {
   "cell_type": "code",
   "execution_count": 53,
   "metadata": {},
   "outputs": [],
   "source": [
    "import numpy as np\n",
    "from sklearn.model_selection import train_test_split\n",
    "from sklearn.model_selection import StratifiedShuffleSplit\n",
    "class Compress:\n",
    "    def save_as_npz(self,df,npz_name=None,tran_data='transcript',label='type'):\n",
    "        X = []\n",
    "        y = np.array(df[label])\n",
    "        sentences = np.array(df[tran_data])\n",
    "        for sen in sentences:\n",
    "            X.append(preprocess_text(sen))\n",
    "                        \n",
    "        self._train_test_split(np.array([X]).T, np.array(y), npz_filename=npz_name)\n",
    "        \n",
    "        \n",
    "\n",
    "    def _train_test_split(self,X,y,npz_filename=''+'.npz',test_size=0.2, random_state=42):\n",
    "        sss = StratifiedShuffleSplit(n_splits=5, test_size=0.5, random_state=0)\n",
    "        sss.get_n_splits(np.array(X), y)\n",
    "        for train_index, test_index in sss.split(X, y):\n",
    "            X_train, X_test = X[train_index], X[test_index]\n",
    "            y_train, y_test = y[train_index], y[test_index]\n",
    "        print(X_train.shape, y_train.shape, X_test.shape, y_test.shape)\n",
    "        tokenizer = Tokenizer(num_words=30000)\n",
    "        tokenizer.fit_on_texts(X_train.ravel())\n",
    "        X_train = tokenizer.texts_to_sequences(X_train.ravel())\n",
    "        X_test = tokenizer.texts_to_sequences(X_test.ravel())\n",
    "        \n",
    "        vocab_size = len(tokenizer.word_index) + 1\n",
    "\n",
    "        maxlen = 100\n",
    "\n",
    "        X_train = pad_sequences(X_train, padding='post', maxlen=maxlen)\n",
    "        X_test = pad_sequences(X_test, padding='post', maxlen=maxlen)\n",
    "        \n",
    "        embeddings_dictionary = dict()\n",
    "        glove_file = open('glove.6B.50d.txt', encoding=\"utf8\")\n",
    "\n",
    "        for line in glove_file:\n",
    "            records = line.split()\n",
    "            word = records[0]\n",
    "            vector_dimensions = asarray(records[1:], dtype='float32')\n",
    "            embeddings_dictionary [word] = vector_dimensions\n",
    "        glove_file.close()\n",
    "        embedding_matrix = zeros((vocab_size, 50))\n",
    "        for word, index in tokenizer.word_index.items():\n",
    "            embedding_vector = embeddings_dictionary.get(word)\n",
    "            if embedding_vector is not None:\n",
    "                embedding_matrix[index] = embedding_vector\n",
    "        \n",
    "        np.savez_compressed(npz_filename,\n",
    "                        X_train=X_train,\n",
    "                        y_train=y_train,\n",
    "                        X_test=X_test,\n",
    "                        y_test=y_test,\n",
    "                        vocab_size=vocab_size, \n",
    "                        embedding_matrix=embedding_matrix)\n",
    "        print(\"Saved {} as .npz\".format(npz_filename))\n",
    "    "
   ]
  },
  {
   "cell_type": "code",
   "execution_count": 54,
   "metadata": {},
   "outputs": [
    {
     "name": "stdout",
     "output_type": "stream",
     "text": [
      "(1500, 1) (1500,) (1500, 1) (1500,)\n",
      "Saved TrumpSplitData as .npz\n",
      "(1500, 1) (1500,) (1500, 1) (1500,)\n",
      "Saved ObamaSplitData as .npz\n"
     ]
    }
   ],
   "source": [
    "compress = Compress()\n",
    "compress.save_as_npz(trump_data, npz_name='TrumpSplitData')\n",
    "compress.save_as_npz(obama_data, npz_name='ObamaSplitData')"
   ]
  },
  {
   "cell_type": "code",
   "execution_count": 57,
   "metadata": {},
   "outputs": [],
   "source": [
    "import numpy as np\n",
    "class load_file:\n",
    "    def __init__(self, file):\n",
    "        self.file = file\n",
    "\n",
    "    def get_data(self):\n",
    "        hal = np.load(self.file)\n",
    "        X_train, y_train, X_test, y_test,vocab_size, embedding_matrix = [hal[f] for f in hal.files]\n",
    "        return X_train, y_train, X_test, y_test,vocab_size, embedding_matrix\n",
    "\n",
    "\n",
    "df = load_file('TrumpSplitData.npz')\n",
    "X_train, y_train, X_test, y_test,vocab_size, embedding_matrix = df.get_data()"
   ]
  },
  {
   "cell_type": "code",
   "execution_count": null,
   "metadata": {
    "scrolled": true
   },
   "outputs": [
    {
     "name": "stdout",
     "output_type": "stream",
     "text": [
      "Model: \"sequential_25\"\n",
      "_________________________________________________________________\n",
      "Layer (type)                 Output Shape              Param #   \n",
      "=================================================================\n",
      "embedding_24 (Embedding)     (None, 100, 50)           163250    \n",
      "_________________________________________________________________\n",
      "dense_152 (Dense)            (None, 100, 32)           1632      \n",
      "_________________________________________________________________\n",
      "dropout_129 (Dropout)        (None, 100, 32)           0         \n",
      "_________________________________________________________________\n",
      "dense_153 (Dense)            (None, 100, 32)           1056      \n",
      "_________________________________________________________________\n",
      "dropout_130 (Dropout)        (None, 100, 32)           0         \n",
      "_________________________________________________________________\n",
      "dense_154 (Dense)            (None, 100, 32)           1056      \n",
      "_________________________________________________________________\n",
      "dropout_131 (Dropout)        (None, 100, 32)           0         \n",
      "_________________________________________________________________\n",
      "dense_155 (Dense)            (None, 100, 64)           2112      \n",
      "_________________________________________________________________\n",
      "dropout_132 (Dropout)        (None, 100, 64)           0         \n",
      "_________________________________________________________________\n",
      "flatten_24 (Flatten)         (None, 6400)              0         \n",
      "_________________________________________________________________\n",
      "dropout_133 (Dropout)        (None, 6400)              0         \n",
      "_________________________________________________________________\n",
      "dense_156 (Dense)            (None, 128)               819328    \n",
      "_________________________________________________________________\n",
      "dense_157 (Dense)            (None, 1)                 129       \n",
      "=================================================================\n",
      "Total params: 988,563\n",
      "Trainable params: 988,563\n",
      "Non-trainable params: 0\n",
      "_________________________________________________________________\n",
      "None\n"
     ]
    },
    {
     "name": "stderr",
     "output_type": "stream",
     "text": [
      "/home/daniel/anaconda3/lib/python3.7/site-packages/tensorflow_core/python/framework/indexed_slices.py:433: UserWarning: Converting sparse IndexedSlices to a dense Tensor of unknown shape. This may consume a large amount of memory.\n",
      "  \"Converting sparse IndexedSlices to a dense Tensor of unknown shape. \"\n"
     ]
    },
    {
     "name": "stdout",
     "output_type": "stream",
     "text": [
      "Train on 1500 samples, validate on 1500 samples\n",
      "Epoch 1/320\n",
      "1500/1500 [==============================] - 1s 414us/step - loss: 7.9555 - acc: 0.5120 - val_loss: 7.2027 - val_acc: 0.5220\n",
      "Epoch 2/320\n",
      "1500/1500 [==============================] - 0s 181us/step - loss: 7.9112 - acc: 0.5107 - val_loss: 7.1594 - val_acc: 0.5207\n",
      "Epoch 3/320\n",
      "1500/1500 [==============================] - 0s 165us/step - loss: 7.8587 - acc: 0.5053 - val_loss: 7.1166 - val_acc: 0.5380\n",
      "Epoch 4/320\n",
      "1500/1500 [==============================] - 0s 177us/step - loss: 7.8149 - acc: 0.5093 - val_loss: 7.0741 - val_acc: 0.5327\n",
      "Epoch 5/320\n",
      "1500/1500 [==============================] - 0s 171us/step - loss: 7.7677 - acc: 0.5107 - val_loss: 7.0319 - val_acc: 0.5280\n",
      "Epoch 6/320\n",
      "1500/1500 [==============================] - 0s 176us/step - loss: 7.7164 - acc: 0.5120 - val_loss: 6.9899 - val_acc: 0.5240\n",
      "Epoch 7/320\n",
      "1500/1500 [==============================] - 0s 163us/step - loss: 7.6785 - acc: 0.5120 - val_loss: 6.9483 - val_acc: 0.5247\n",
      "Epoch 8/320\n",
      "1500/1500 [==============================] - 0s 172us/step - loss: 7.6312 - acc: 0.5220 - val_loss: 6.9069 - val_acc: 0.5260\n",
      "Epoch 9/320\n",
      "1500/1500 [==============================] - 0s 175us/step - loss: 7.5884 - acc: 0.5267 - val_loss: 6.8659 - val_acc: 0.5267\n",
      "Epoch 10/320\n",
      "1500/1500 [==============================] - 0s 168us/step - loss: 7.5355 - acc: 0.5227 - val_loss: 6.8251 - val_acc: 0.5287\n",
      "Epoch 11/320\n",
      "1500/1500 [==============================] - 0s 167us/step - loss: 7.4898 - acc: 0.5100 - val_loss: 6.7847 - val_acc: 0.5313\n",
      "Epoch 12/320\n",
      "1500/1500 [==============================] - 0s 170us/step - loss: 7.4567 - acc: 0.5207 - val_loss: 6.7445 - val_acc: 0.5327\n",
      "Epoch 13/320\n",
      "1500/1500 [==============================] - 0s 163us/step - loss: 7.4104 - acc: 0.5100 - val_loss: 6.7045 - val_acc: 0.5340\n",
      "Epoch 14/320\n",
      " 896/1500 [================>.............] - ETA: 0s - loss: 7.4743 - acc: 0.5357"
     ]
    }
   ],
   "source": [
    "from keras.preprocessing.text import one_hot\n",
    "from keras.preprocessing.sequence import pad_sequences\n",
    "from keras.models import Sequential\n",
    "from keras.layers.core import Activation, Dropout, Dense\n",
    "from keras.layers import Flatten\n",
    "from keras.layers import GlobalMaxPooling1D\n",
    "from keras.layers.embeddings import Embedding\n",
    "from sklearn.model_selection import train_test_split\n",
    "from keras.preprocessing.text import Tokenizer\n",
    "from keras.layers import Dense\n",
    "from keras.constraints import max_norm\n",
    "from keras.regularizers import l1,l2\n",
    "from keras import optimizers\n",
    "import keras\n",
    "from sklearn.metrics import accuracy_score\n",
    "from sklearn.metrics import precision_score\n",
    "from sklearn.metrics import recall_score\n",
    "from sklearn.metrics import f1_score\n",
    "from sklearn.metrics import cohen_kappa_score\n",
    "from sklearn.metrics import roc_auc_score\n",
    "from sklearn.metrics import confusion_matrix\n",
    "maxlen = 100\n",
    "model = Sequential()\n",
    "embedding_layer = Embedding(vocab_size, 50, weights=[embedding_matrix], input_length=maxlen)\n",
    "model.add(embedding_layer)\n",
    "model.add(Dense(32, activity_regularizer=l2(0.001), activation='relu'))\n",
    "model.add(Dropout(0.4))\n",
    "\n",
    "\n",
    "model.add(Dense(32, activation='relu'))\n",
    "model.add(Dropout(0.4))\n",
    "\n",
    "model.add(Dense(32, activation='relu'))\n",
    "model.add(Dropout(0.4))\n",
    "\n",
    "\n",
    "model.add(Dense(64, activation='relu'))\n",
    "model.add(Dropout(0.4))\n",
    "\n",
    "\n",
    "model.add(Flatten())\n",
    "model.add(Dropout(0.4))\n",
    "model.add(Dense(128,activation='relu'))\n",
    "\n",
    "model.add(Dense(1,activation='sigmoid'))\n",
    "model.compile(optimizer=optimizers.adam(lr=.00001), loss='binary_crossentropy', metrics=['acc'])\n",
    "es_callback = keras.callbacks.EarlyStopping(monitor='val_loss', patience=3)\n",
    "print(model.summary())\n",
    "history = model.fit(X_train, y_train, batch_size=64, epochs=320, validation_data=(X_test, y_test))\n",
    "\n",
    "\n",
    "import matplotlib.pyplot as plt\n",
    "plt.plot(history.history['acc'])\n",
    "plt.plot(history.history['val_acc'])\n",
    "plt.title('model accuracy')\n",
    "plt.ylabel('accuracy')\n",
    "plt.xlabel('epoch')\n",
    "plt.legend(['train','test'], loc='upper left')\n",
    "plt.show()\n",
    "\n",
    "plt.plot(history.history['loss'])\n",
    "plt.plot(history.history['val_loss'])\n",
    "\n",
    "plt.title('model loss')\n",
    "plt.ylabel('loss')\n",
    "plt.xlabel('epoch')\n",
    "plt.legend(['train','test'], loc='upper left')\n",
    "plt.show()\n",
    "loss, accuracy = model.evaluate(X_train, y_train, verbose=1)\n",
    "print('Training Accuracy is {}'.format(accuracy*100))\n",
    "\n",
    "loss, accuracy = model.evaluate(X_test,y_test)\n",
    "\n",
    "\n",
    "print('Testing Accuracy is {} '.format(accuracy*100))\n",
    "\n",
    "\n",
    "yhat_classes = model.predict_classes(X_test)\n",
    "\n",
    "\n",
    "accuracy = accuracy_score(y_test, yhat_classes)\n",
    "print('Accuracy: %f' % accuracy)\n",
    "# precision tp / (tp + fp)\n",
    "precision = precision_score(y_test, yhat_classes)\n",
    "print('Precision: %f' % precision)\n",
    "# recall: tp / (tp + fn)\n",
    "recall = recall_score(y_test, yhat_classes)\n",
    "print('Recall: %f' % recall)\n",
    "# f1: 2 tp / (2 tp + fp + fn)\n",
    "f1 = f1_score(y_test, yhat_classes)\n",
    "print('F1 score: %f' % f1)\n",
    "matrix = confusion_matrix(y_test, yhat_classes)\n",
    "print(matrix)"
   ]
  },
  {
   "cell_type": "code",
   "execution_count": null,
   "metadata": {},
   "outputs": [],
   "source": []
  },
  {
   "cell_type": "code",
   "execution_count": 71,
   "metadata": {},
   "outputs": [
    {
     "name": "stdout",
     "output_type": "stream",
     "text": [
      "Saved model to disk\n"
     ]
    }
   ],
   "source": [
    "model.save(\"TrumpModel.h5\")\n",
    "print(\"Saved model to disk\")"
   ]
  },
  {
   "cell_type": "code",
   "execution_count": 72,
   "metadata": {},
   "outputs": [],
   "source": [
    "import itertools\n",
    "def plot_confusion_matrix(cm, classes,\n",
    "                          normalize=False,\n",
    "                          title='Confusion matrix',\n",
    "                          cmap=plt.cm.Blues):\n",
    "    \"\"\"\n",
    "    This function prints and plots the confusion matrix.\n",
    "    Normalization can be applied by setting `normalize=True`.\n",
    "    \"\"\"\n",
    "    plt.imshow(cm, interpolation='nearest', cmap=cmap)\n",
    "    plt.title(title)\n",
    "    plt.colorbar()\n",
    "    tick_marks = np.arange(len(classes))\n",
    "    plt.xticks(tick_marks, classes, rotation=45)\n",
    "    plt.yticks(tick_marks, classes)\n",
    "\n",
    "    if normalize:\n",
    "        cm = cm.astype('float') / cm.sum(axis=1)[:, np.newaxis]\n",
    "        print(\"Normalized confusion matrix\")\n",
    "    else:\n",
    "        print('Confusion matrix, without normalization')\n",
    "\n",
    "    print(cm)\n",
    "\n",
    "    thresh = cm.max() / 2.\n",
    "    for i, j in itertools.product(range(cm.shape[0]), range(cm.shape[1])):\n",
    "        plt.text(j, i, cm[i, j],\n",
    "                 horizontalalignment=\"center\",\n",
    "                 color=\"white\" if cm[i, j] > thresh else \"black\")\n",
    "\n",
    "    plt.tight_layout()\n",
    "    plt.ylabel('True label')\n",
    "    plt.xlabel('Predicted label')"
   ]
  },
  {
   "cell_type": "code",
   "execution_count": 73,
   "metadata": {},
   "outputs": [
    {
     "name": "stdout",
     "output_type": "stream",
     "text": [
      "Confusion matrix, without normalization\n",
      "[[593 157]\n",
      " [ 71 679]]\n"
     ]
    },
    {
     "data": {
      "image/png": "[encoded data removed]",
      "text/plain": [
       "<Figure size 432x288 with 2 Axes>"
      ]
     },
     "metadata": {
      "needs_background": "light"
     },
     "output_type": "display_data"
    }
   ],
   "source": [
    "cm =confusion_matrix(y_test, yhat_classes)\n",
    "labels = ['Rally', 'Union']\n",
    "plot_confusion_matrix(cm, labels, title='Confusion Matrix')"
   ]
  },
  {
   "cell_type": "code",
   "execution_count": null,
   "metadata": {},
   "outputs": [],
   "source": []
  },
  {
   "cell_type": "code",
   "execution_count": null,
   "metadata": {},
   "outputs": [],
   "source": []
  },
  {
   "cell_type": "code",
   "execution_count": null,
   "metadata": {},
   "outputs": [],
   "source": []
  }
 ],
 "metadata": {
  "kernelspec": {
   "display_name": "Python 3",
   "language": "python",
   "name": "python3"
  },
  "language_info": {
   "codemirror_mode": {
    "name": "ipython",
    "version": 3
   },
   "file_extension": ".py",
   "mimetype": "text/x-python",
   "name": "python",
   "nbconvert_exporter": "python",
   "pygments_lexer": "ipython3",
   "version": "3.7.6"
  }
 },
 "nbformat": 4,
 "nbformat_minor": 4
}
