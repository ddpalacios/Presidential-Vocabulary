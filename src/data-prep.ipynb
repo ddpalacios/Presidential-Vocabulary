{
 "cells": [
  {
   "cell_type": "code",
   "execution_count": null,
   "metadata": {},
   "outputs": [],
   "source": []
  },
  {
   "cell_type": "code",
   "execution_count": null,
   "metadata": {},
   "outputs": [],
   "source": []
  },
  {
   "cell_type": "code",
   "execution_count": null,
   "metadata": {},
   "outputs": [],
   "source": []
  },
  {
   "cell_type": "code",
   "execution_count": 137,
   "metadata": {},
   "outputs": [
    {
     "name": "stderr",
     "output_type": "stream",
     "text": [
      "[nltk_data] Downloading package punkt to /home/daniel/nltk_data...\n",
      "[nltk_data]   Package punkt is already up-to-date!\n"
     ]
    }
   ],
   "source": [
    "from bs4 import BeautifulSoup\n",
    "import requests\n",
    "import re\n",
    "from nltk.tokenize import RegexpTokenizer\n",
    "from nltk.tokenize import word_tokenize\n",
    "nltk.download('punkt')\n",
    "\n",
    "class WebScrapper:\n",
    "    def __init__(self, url):\n",
    "        headers = requests.utils.default_headers()\n",
    "        headers.update({'User-Agent': 'Mozilla/5.0 (X11; Ubuntu; Linux x86_64; rv:52.0) Gecko/20100101 Firefox/52.0'})\n",
    "        req = requests.get(url, headers)\n",
    "        self.soup = BeautifulSoup(req.content, 'html.parser')\n",
    "        \n",
    "        \n",
    "    def scrape_all(self, tag,  tokenize=None):\n",
    "        [s.extract() for s in self.soup('a')]\n",
    "        full_speech = \"\"\n",
    "\n",
    "        for p in self.soup.find_all(tag):\n",
    "            speech_parts = p.get_text().split(\"\\n\")\n",
    "            first_line = speech_parts[0]\n",
    "\n",
    "            # only include speech from Donald Trump, exclude crowd and other speakers\n",
    "            if first_line == \"Donald Trump: ()\" or first_line == \"President Trump: ()\":\n",
    "                full_speech = full_speech + \" \" + speech_parts[1]\n",
    "            \n",
    "            else:\n",
    "                full_speech += speech_parts[0]\n",
    "        \n",
    "        full_speech = self._clean_transcript(full_speech)\n",
    "        if tokenize:\n",
    "            full_speech = self.tokenize(full_speech)\n",
    "            return full_speech\n",
    "        \n",
    "\n",
    "        return full_speech\n",
    "    \n",
    "    \n",
    "    def _clean_transcript(self, text):\n",
    "        # remove bracketed text\n",
    "        text = re.sub('\\[.*?\\]', '', text)\n",
    "        # remove non-word and non-space characters (i.e. punctuation)\n",
    "        text = re.sub('[^\\w\\s]', '', text)\n",
    "        # remove numbers\n",
    "        text = ''.join([i for i in text if not i.isdigit()])\n",
    "        # change multiple spaces back to single space\n",
    "        text = re.sub(' +', ' ', text)\n",
    "        # lowercase\n",
    "        text = text.lower()\n",
    "        # strip leading and trailing spaces\n",
    "        text = text.strip()\n",
    "\n",
    "        return text\n",
    "\n",
    "    \n",
    "    def tokenize(self, content, amount_features=None, regex = '\\w+'):\n",
    "        tokenized = word_tokenize(content)\n",
    "        return tokenized"
   ]
  },
  {
   "cell_type": "code",
   "execution_count": 149,
   "metadata": {},
   "outputs": [
    {
     "name": "stdout",
     "output_type": "stream",
     "text": [
      "Scrapping: https://www.rev.com/blog/transcripts/donald-trump-charlotte-north-carolina-rally-transcript-trump-holds-rally-before-super-tuesday\n",
      "Scrapping: https://www.rev.com/blog/transcripts/donald-trump-charleston-south-carolina-rally-transcript-february-28-2020\n",
      "Scrapping: https://www.rev.com/blog/transcripts/donald-trump-las-vegas-nevada-rally-transcript\n",
      "Scrapping: https://www.rev.com/blog/transcripts/donald-trump-colorado-springs-co-rally-transcript\n",
      "Scrapping: https://www.rev.com/blog/transcripts/donald-trump-phoenix-arizona-rally-transcript\n",
      "Scrapping: https://www.rev.com/blog/transcripts/donald-trump-new-hampshire-rally-february-10-2020\n",
      "Scrapping: https://www.rev.com/blog/transcripts/donal-trump-iowa-rally-transcript-trump-holds-rally-in-des-moines-iowa\n",
      "Scrapping: https://www.rev.com/blog/transcripts/donald-trump-new-jersey-rally-speech-transcript-trump-holds-rally-in-wildwood-nj\n",
      "Scrapping: https://www.rev.com/blog/transcripts/donald-trump-milwaukee-rally-transcript-trump-holds-rally-during-iowa-democratic-debate\n",
      "Scrapping: https://www.rev.com/blog/transcripts/donald-trump-michigan-rally-transcript-trump-holds-a-rally-in-battle-creek-during-impeachment\n",
      "Scrapping: https://www.rev.com/blog/transcripts/donald-trump-hershey-pennsylvania-rally-transcript-december-10-2019\n",
      "Scrapping: https://www.rev.com/blog/transcripts/donald-trump-kentucky-rally-speech-transcript-lexington-kentucky-rally\n",
      "Scrapping: https://www.rev.com/blog/transcripts/donald-trump-mississippi-rally-speech-transcript-2019-rally-in-tupelo-mississippi\n",
      "Scrapping: https://www.rev.com/blog/transcripts/donald-trump-dallas-rally-speech-transcript-october-17-2019\n",
      "Scrapping: https://www.rev.com/blog/transcripts/donald-trump-minnesota-rally-speech-transcript-minneapolis-mn-rally-october-10-2019\n",
      "Scrapping: https://www.rev.com/blog/transcripts/donald-trump-narendra-modi-houston-tx-rally-transcript-trump-and-modi-hold-texas-rally\n",
      "Scrapping: https://www.rev.com/blog/transcripts/donald-trump-new-mexico-rally-transcript-full-speech-transcript\n",
      "Scrapping: https://www.rev.com/blog/transcripts/donald-trump-north-carolina-rally-transcript-in-fayetteville-nc-september-9-2019\n",
      "Scrapping: https://www.rev.com/blog/transcripts/donald-trump-new-hampshire-rally-transcript-august-15-2019\n",
      "Scrapping: https://www.rev.com/blog/transcripts/donald-trump-ohio-rally-speech-transcript-full-transcript-of-august-1-2019-rally-in-cincinnati\n",
      "Scrapping: https://www.rev.com/blog/transcripts/donald-trump-maga-event-speech-transcript-north-carolina-rally\n",
      "Scrapping: https://www.govinfo.gov/content/pkg/DCPD-201700150/html/DCPD-201700150.htm\n",
      "Scrapping: https://www.govinfo.gov/content/pkg/DCPD-201800064/html/DCPD-201800064.htm\n",
      "Scrapping: https://www.govinfo.gov/content/pkg/DCPD-201900063/html/DCPD-201900063.htm\n",
      "Added to dataset!\n",
      "Added to dataset!\n"
     ]
    },
    {
     "data": {
      "text/html": [
       "<div>\n",
       "<style scoped>\n",
       "    .dataframe tbody tr th:only-of-type {\n",
       "        vertical-align: middle;\n",
       "    }\n",
       "\n",
       "    .dataframe tbody tr th {\n",
       "        vertical-align: top;\n",
       "    }\n",
       "\n",
       "    .dataframe thead th {\n",
       "        text-align: right;\n",
       "    }\n",
       "</style>\n",
       "<table border=\"1\" class=\"dataframe\">\n",
       "  <thead>\n",
       "    <tr style=\"text-align: right;\">\n",
       "      <th></th>\n",
       "      <th>transcript</th>\n",
       "      <th>type</th>\n",
       "    </tr>\n",
       "  </thead>\n",
       "  <tbody>\n",
       "    <tr>\n",
       "      <th>0</th>\n",
       "      <td>mar donald trump held a rally on march in char...</td>\n",
       "      <td>1</td>\n",
       "    </tr>\n",
       "    <tr>\n",
       "      <th>1</th>\n",
       "      <td>feb donald trump held a rally in south carolin...</td>\n",
       "      <td>1</td>\n",
       "    </tr>\n",
       "    <tr>\n",
       "      <th>2</th>\n",
       "      <td>feb donald trump held a rally in las vegas nev...</td>\n",
       "      <td>1</td>\n",
       "    </tr>\n",
       "    <tr>\n",
       "      <th>3</th>\n",
       "      <td>feb donald trump held his second rally in two ...</td>\n",
       "      <td>1</td>\n",
       "    </tr>\n",
       "    <tr>\n",
       "      <th>4</th>\n",
       "      <td>feb donald trump held another campaign rally i...</td>\n",
       "      <td>1</td>\n",
       "    </tr>\n",
       "  </tbody>\n",
       "</table>\n",
       "</div>"
      ],
      "text/plain": [
       "                                          transcript  type\n",
       "0  mar donald trump held a rally on march in char...     1\n",
       "1  feb donald trump held a rally in south carolin...     1\n",
       "2  feb donald trump held a rally in las vegas nev...     1\n",
       "3  feb donald trump held his second rally in two ...     1\n",
       "4  feb donald trump held another campaign rally i...     1"
      ]
     },
     "execution_count": 149,
     "metadata": {},
     "output_type": "execute_result"
    }
   ],
   "source": [
    "def addToDataFrame(content, label=None):\n",
    "    rally_df = pd.DataFrame(content)\n",
    "    rally_df.columns = ['transcript']\n",
    "    rally_df['type'] = label\n",
    "    print(\"Added to dataset!\")\n",
    "    return rally_df\n",
    "          \n",
    "def extract_urls_from(txt_file):\n",
    "    url_files = open(txt_file,'r')\n",
    "   \n",
    "    for whole_file in url_files:\n",
    "        current_url = whole_file.replace('\\n', '')\n",
    "        print(\"Scrapping:\", current_url)\n",
    "        yield current_url\n",
    "    url_files.close()\n",
    "\n",
    "\n",
    "RALLY_TRANSCRIPTS, UNION_TRANSCRIPTS = [], []\n",
    "for current_url in extract_urls_from('rally_urls.txt'):\n",
    "    full_speech = WebScrapper(current_url).scrape_all('p', tokenize=False)\n",
    "    RALLY_TRANSCRIPTS.append(full_speech)\n",
    "    \n",
    "for current_url in extract_urls_from('union.txt'):\n",
    "    full_speech = WebScrapper(current_url).scrape_all('p', tokenize=False)\n",
    "    UNION_TRANSCRIPTS.append(full_speech)\n",
    "\n",
    "\n",
    "\n",
    "        \n",
    "    \n",
    "rally_df = addToDataFrame(RALLY_TRANSCRIPTS,label = 1)\n",
    "union_df = addToDataFrame(UNION_TRANSCRIPTS, label = 0)\n",
    "df = pd.concat([rally_df, union_df])\n",
    "    \n",
    "df.head()"
   ]
  },
  {
   "cell_type": "code",
   "execution_count": 144,
   "metadata": {},
   "outputs": [
    {
     "data": {
      "text/html": [
       "<div>\n",
       "<style scoped>\n",
       "    .dataframe tbody tr th:only-of-type {\n",
       "        vertical-align: middle;\n",
       "    }\n",
       "\n",
       "    .dataframe tbody tr th {\n",
       "        vertical-align: top;\n",
       "    }\n",
       "\n",
       "    .dataframe thead th {\n",
       "        text-align: right;\n",
       "    }\n",
       "</style>\n",
       "<table border=\"1\" class=\"dataframe\">\n",
       "  <thead>\n",
       "    <tr style=\"text-align: right;\">\n",
       "      <th></th>\n",
       "      <th>transcript</th>\n",
       "      <th>type</th>\n",
       "    </tr>\n",
       "  </thead>\n",
       "  <tbody>\n",
       "  </tbody>\n",
       "</table>\n",
       "</div>"
      ],
      "text/plain": [
       "Empty DataFrame\n",
       "Columns: [transcript, type]\n",
       "Index: []"
      ]
     },
     "execution_count": 144,
     "metadata": {},
     "output_type": "execute_result"
    }
   ],
   "source": [
    "df"
   ]
  },
  {
   "cell_type": "code",
   "execution_count": null,
   "metadata": {},
   "outputs": [],
   "source": []
  },
  {
   "cell_type": "code",
   "execution_count": null,
   "metadata": {},
   "outputs": [],
   "source": []
  },
  {
   "cell_type": "code",
   "execution_count": null,
   "metadata": {},
   "outputs": [],
   "source": []
  },
  {
   "cell_type": "code",
   "execution_count": null,
   "metadata": {},
   "outputs": [],
   "source": []
  }
 ],
 "metadata": {
  "kernelspec": {
   "display_name": "Python 3",
   "language": "python",
   "name": "python3"
  },
  "language_info": {
   "codemirror_mode": {
    "name": "ipython",
    "version": 3
   },
   "file_extension": ".py",
   "mimetype": "text/x-python",
   "name": "python",
   "nbconvert_exporter": "python",
   "pygments_lexer": "ipython3",
   "version": "3.7.6"
  }
 },
 "nbformat": 4,
 "nbformat_minor": 4
}
